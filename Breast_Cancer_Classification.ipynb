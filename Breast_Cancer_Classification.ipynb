{
  "nbformat": 4,
  "nbformat_minor": 0,
  "metadata": {
    "colab": {
      "name": "Breast Cancer Classification.ipynb",
      "provenance": [],
      "authorship_tag": "ABX9TyPF9zDnZxrQiVl30O4JdpSZ",
      "include_colab_link": true
    },
    "kernelspec": {
      "name": "python3",
      "display_name": "Python 3"
    },
    "language_info": {
      "name": "python"
    }
  },
  "cells": [
    {
      "cell_type": "markdown",
      "metadata": {
        "id": "view-in-github",
        "colab_type": "text"
      },
      "source": [
        "<a href=\"https://colab.research.google.com/github/RamezNabil/Breast-Cancer-Classification/blob/main/Breast_Cancer_Classification.ipynb\" target=\"_parent\"><img src=\"https://colab.research.google.com/assets/colab-badge.svg\" alt=\"Open In Colab\"/></a>"
      ]
    },
    {
      "cell_type": "code",
      "metadata": {
        "id": "F0kRAmYDu3BO"
      },
      "source": [
        "%matplotlib inline\n",
        "%tensorflow_version 2.x\n",
        "\n",
        "import numpy as np\n",
        "import pandas as pd\n",
        "import tensorflow as tf\n",
        "from tensorflow.keras import layers\n",
        "from matplotlib import pyplot as plt\n",
        "\n",
        "# The following lines adjust the granularity of reporting.\n",
        "pd.options.display.max_rows = 80\n",
        "pd.options.display.float_format = \"{:.1f}\".format"
      ],
      "execution_count": 39,
      "outputs": []
    },
    {
      "cell_type": "markdown",
      "metadata": {
        "id": "icG8QXEB22ZP"
      },
      "source": [
        "Getting the Dataset (Downloaded locally Uploaded to colab instance from https://www.kaggle.com/uciml/breast-cancer-wisconsin-data)"
      ]
    },
    {
      "cell_type": "code",
      "metadata": {
        "colab": {
          "base_uri": "https://localhost:8080/",
          "height": 223
        },
        "id": "s57vNskiwceM",
        "outputId": "bbefd9f0-9802-47a5-c426-aab7f692dbc3"
      },
      "source": [
        "df = pd.read_csv('/content/data.csv')\n",
        "df.head()"
      ],
      "execution_count": 40,
      "outputs": [
        {
          "output_type": "execute_result",
          "data": {
            "text/html": [
              "<div>\n",
              "<style scoped>\n",
              "    .dataframe tbody tr th:only-of-type {\n",
              "        vertical-align: middle;\n",
              "    }\n",
              "\n",
              "    .dataframe tbody tr th {\n",
              "        vertical-align: top;\n",
              "    }\n",
              "\n",
              "    .dataframe thead th {\n",
              "        text-align: right;\n",
              "    }\n",
              "</style>\n",
              "<table border=\"1\" class=\"dataframe\">\n",
              "  <thead>\n",
              "    <tr style=\"text-align: right;\">\n",
              "      <th></th>\n",
              "      <th>id</th>\n",
              "      <th>diagnosis</th>\n",
              "      <th>radius_mean</th>\n",
              "      <th>texture_mean</th>\n",
              "      <th>perimeter_mean</th>\n",
              "      <th>area_mean</th>\n",
              "      <th>smoothness_mean</th>\n",
              "      <th>compactness_mean</th>\n",
              "      <th>concavity_mean</th>\n",
              "      <th>concave_points_mean</th>\n",
              "      <th>symmetry_mean</th>\n",
              "      <th>fractal_dimension_mean</th>\n",
              "      <th>radius_se</th>\n",
              "      <th>texture_se</th>\n",
              "      <th>perimeter_se</th>\n",
              "      <th>area_se</th>\n",
              "      <th>smoothness_se</th>\n",
              "      <th>compactness_se</th>\n",
              "      <th>concavity_se</th>\n",
              "      <th>concave_points_se</th>\n",
              "      <th>symmetry_se</th>\n",
              "      <th>fractal_dimension_se</th>\n",
              "      <th>radius_worst</th>\n",
              "      <th>texture_worst</th>\n",
              "      <th>perimeter_worst</th>\n",
              "      <th>area_worst</th>\n",
              "      <th>smoothness_worst</th>\n",
              "      <th>compactness_worst</th>\n",
              "      <th>concavity_worst</th>\n",
              "      <th>concave_points_worst</th>\n",
              "      <th>symmetry_worst</th>\n",
              "      <th>fractal_dimension_worst</th>\n",
              "    </tr>\n",
              "  </thead>\n",
              "  <tbody>\n",
              "    <tr>\n",
              "      <th>0</th>\n",
              "      <td>842302</td>\n",
              "      <td>M</td>\n",
              "      <td>18.0</td>\n",
              "      <td>10.4</td>\n",
              "      <td>122.8</td>\n",
              "      <td>1001.0</td>\n",
              "      <td>0.1</td>\n",
              "      <td>0.3</td>\n",
              "      <td>0.3</td>\n",
              "      <td>0.1</td>\n",
              "      <td>0.2</td>\n",
              "      <td>0.1</td>\n",
              "      <td>1.1</td>\n",
              "      <td>0.9</td>\n",
              "      <td>8.6</td>\n",
              "      <td>153.4</td>\n",
              "      <td>0.0</td>\n",
              "      <td>0.0</td>\n",
              "      <td>0.1</td>\n",
              "      <td>0.0</td>\n",
              "      <td>0.0</td>\n",
              "      <td>0.0</td>\n",
              "      <td>25.4</td>\n",
              "      <td>17.3</td>\n",
              "      <td>184.6</td>\n",
              "      <td>2019.0</td>\n",
              "      <td>0.2</td>\n",
              "      <td>0.7</td>\n",
              "      <td>0.7</td>\n",
              "      <td>0.3</td>\n",
              "      <td>0.5</td>\n",
              "      <td>0.1</td>\n",
              "    </tr>\n",
              "    <tr>\n",
              "      <th>1</th>\n",
              "      <td>842517</td>\n",
              "      <td>M</td>\n",
              "      <td>20.6</td>\n",
              "      <td>17.8</td>\n",
              "      <td>132.9</td>\n",
              "      <td>1326.0</td>\n",
              "      <td>0.1</td>\n",
              "      <td>0.1</td>\n",
              "      <td>0.1</td>\n",
              "      <td>0.1</td>\n",
              "      <td>0.2</td>\n",
              "      <td>0.1</td>\n",
              "      <td>0.5</td>\n",
              "      <td>0.7</td>\n",
              "      <td>3.4</td>\n",
              "      <td>74.1</td>\n",
              "      <td>0.0</td>\n",
              "      <td>0.0</td>\n",
              "      <td>0.0</td>\n",
              "      <td>0.0</td>\n",
              "      <td>0.0</td>\n",
              "      <td>0.0</td>\n",
              "      <td>25.0</td>\n",
              "      <td>23.4</td>\n",
              "      <td>158.8</td>\n",
              "      <td>1956.0</td>\n",
              "      <td>0.1</td>\n",
              "      <td>0.2</td>\n",
              "      <td>0.2</td>\n",
              "      <td>0.2</td>\n",
              "      <td>0.3</td>\n",
              "      <td>0.1</td>\n",
              "    </tr>\n",
              "    <tr>\n",
              "      <th>2</th>\n",
              "      <td>84300903</td>\n",
              "      <td>M</td>\n",
              "      <td>19.7</td>\n",
              "      <td>21.2</td>\n",
              "      <td>130.0</td>\n",
              "      <td>1203.0</td>\n",
              "      <td>0.1</td>\n",
              "      <td>0.2</td>\n",
              "      <td>0.2</td>\n",
              "      <td>0.1</td>\n",
              "      <td>0.2</td>\n",
              "      <td>0.1</td>\n",
              "      <td>0.7</td>\n",
              "      <td>0.8</td>\n",
              "      <td>4.6</td>\n",
              "      <td>94.0</td>\n",
              "      <td>0.0</td>\n",
              "      <td>0.0</td>\n",
              "      <td>0.0</td>\n",
              "      <td>0.0</td>\n",
              "      <td>0.0</td>\n",
              "      <td>0.0</td>\n",
              "      <td>23.6</td>\n",
              "      <td>25.5</td>\n",
              "      <td>152.5</td>\n",
              "      <td>1709.0</td>\n",
              "      <td>0.1</td>\n",
              "      <td>0.4</td>\n",
              "      <td>0.5</td>\n",
              "      <td>0.2</td>\n",
              "      <td>0.4</td>\n",
              "      <td>0.1</td>\n",
              "    </tr>\n",
              "    <tr>\n",
              "      <th>3</th>\n",
              "      <td>84348301</td>\n",
              "      <td>M</td>\n",
              "      <td>11.4</td>\n",
              "      <td>20.4</td>\n",
              "      <td>77.6</td>\n",
              "      <td>386.1</td>\n",
              "      <td>0.1</td>\n",
              "      <td>0.3</td>\n",
              "      <td>0.2</td>\n",
              "      <td>0.1</td>\n",
              "      <td>0.3</td>\n",
              "      <td>0.1</td>\n",
              "      <td>0.5</td>\n",
              "      <td>1.2</td>\n",
              "      <td>3.4</td>\n",
              "      <td>27.2</td>\n",
              "      <td>0.0</td>\n",
              "      <td>0.1</td>\n",
              "      <td>0.1</td>\n",
              "      <td>0.0</td>\n",
              "      <td>0.1</td>\n",
              "      <td>0.0</td>\n",
              "      <td>14.9</td>\n",
              "      <td>26.5</td>\n",
              "      <td>98.9</td>\n",
              "      <td>567.7</td>\n",
              "      <td>0.2</td>\n",
              "      <td>0.9</td>\n",
              "      <td>0.7</td>\n",
              "      <td>0.3</td>\n",
              "      <td>0.7</td>\n",
              "      <td>0.2</td>\n",
              "    </tr>\n",
              "    <tr>\n",
              "      <th>4</th>\n",
              "      <td>84358402</td>\n",
              "      <td>M</td>\n",
              "      <td>20.3</td>\n",
              "      <td>14.3</td>\n",
              "      <td>135.1</td>\n",
              "      <td>1297.0</td>\n",
              "      <td>0.1</td>\n",
              "      <td>0.1</td>\n",
              "      <td>0.2</td>\n",
              "      <td>0.1</td>\n",
              "      <td>0.2</td>\n",
              "      <td>0.1</td>\n",
              "      <td>0.8</td>\n",
              "      <td>0.8</td>\n",
              "      <td>5.4</td>\n",
              "      <td>94.4</td>\n",
              "      <td>0.0</td>\n",
              "      <td>0.0</td>\n",
              "      <td>0.1</td>\n",
              "      <td>0.0</td>\n",
              "      <td>0.0</td>\n",
              "      <td>0.0</td>\n",
              "      <td>22.5</td>\n",
              "      <td>16.7</td>\n",
              "      <td>152.2</td>\n",
              "      <td>1575.0</td>\n",
              "      <td>0.1</td>\n",
              "      <td>0.2</td>\n",
              "      <td>0.4</td>\n",
              "      <td>0.2</td>\n",
              "      <td>0.2</td>\n",
              "      <td>0.1</td>\n",
              "    </tr>\n",
              "  </tbody>\n",
              "</table>\n",
              "</div>"
            ],
            "text/plain": [
              "         id diagnosis  ...  symmetry_worst  fractal_dimension_worst\n",
              "0    842302         M  ...             0.5                      0.1\n",
              "1    842517         M  ...             0.3                      0.1\n",
              "2  84300903         M  ...             0.4                      0.1\n",
              "3  84348301         M  ...             0.7                      0.2\n",
              "4  84358402         M  ...             0.2                      0.1\n",
              "\n",
              "[5 rows x 32 columns]"
            ]
          },
          "metadata": {
            "tags": []
          },
          "execution_count": 40
        }
      ]
    },
    {
      "cell_type": "markdown",
      "metadata": {
        "id": "ILwoIJ_W3o9x"
      },
      "source": [
        "Visualization"
      ]
    },
    {
      "cell_type": "code",
      "metadata": {
        "colab": {
          "base_uri": "https://localhost:8080/",
          "height": 282
        },
        "id": "gxJxUz_HxBpL",
        "outputId": "5c67b72d-2421-472c-a563-b20ed5c6c937"
      },
      "source": [
        "plt.scatter(df.concave_points_mean, df.diagnosis, marker='+', color='red')"
      ],
      "execution_count": 41,
      "outputs": [
        {
          "output_type": "execute_result",
          "data": {
            "text/plain": [
              "<matplotlib.collections.PathCollection at 0x7fb46d2913d0>"
            ]
          },
          "metadata": {
            "tags": []
          },
          "execution_count": 41
        },
        {
          "output_type": "display_data",
          "data": {
            "image/png": "[encoded data removed]",
            "text/plain": [
              "<Figure size 432x288 with 1 Axes>"
            ]
          },
          "metadata": {
            "tags": [],
            "needs_background": "light"
          }
        }
      ]
    },
    {
      "cell_type": "markdown",
      "metadata": {
        "id": "pB419qTFMzrl"
      },
      "source": [
        "Training and Test Data"
      ]
    },
    {
      "cell_type": "code",
      "metadata": {
        "id": "bJr1CL9RM2J3"
      },
      "source": [
        "from sklearn.datasets import make_blobs\n",
        "from sklearn.model_selection import train_test_split\n",
        "\n",
        "X = df.drop(columns = ['diagnosis'])\n",
        "y = df.loc[:, 'diagnosis']\n",
        "X_train, X_test, y_train, y_test = train_test_split(X, y, test_size=0.33)"
      ],
      "execution_count": 42,
      "outputs": []
    },
    {
      "cell_type": "markdown",
      "metadata": {
        "id": "so7pW7IndZQx"
      },
      "source": [
        "Pre-Processing"
      ]
    },
    {
      "cell_type": "code",
      "metadata": {
        "id": "AgPwWiDHdbrC"
      },
      "source": [
        "X_train_norm = (X_train - X_train.mean())/X_train.std()\n",
        "X_test_norm = (X_test - X_test.mean())/X_test.std()\n",
        "\n",
        "y_train.replace('B', 0, inplace=True)\n",
        "y_train.replace('M', 1, inplace=True)\n",
        "y_test.replace('B', 0, inplace=True)\n",
        "y_test.replace('M', 1, inplace=True)"
      ],
      "execution_count": 43,
      "outputs": []
    },
    {
      "cell_type": "markdown",
      "metadata": {
        "id": "1_eD2y06ccPo"
      },
      "source": [
        "Feature Columns"
      ]
    },
    {
      "cell_type": "code",
      "metadata": {
        "colab": {
          "base_uri": "https://localhost:8080/"
        },
        "id": "AMhpCN-eceoB",
        "outputId": "743994c3-3a89-4906-e134-51aa0ae38333"
      },
      "source": [
        "feature_columns = []\n",
        "excluded_columns = ['id']\n",
        "for col in X.columns:\n",
        "  if col not in excluded_columns:\n",
        "    feature_columns.append(tf.feature_column.numeric_column(col))\n",
        "\n",
        "feature_layer = layers.DenseFeatures(feature_columns)\n",
        "feature_layer(dict(X_train_norm))"
      ],
      "execution_count": 44,
      "outputs": [
        {
          "output_type": "execute_result",
          "data": {
            "text/plain": [
              "<tf.Tensor: shape=(381, 30), dtype=float32, numpy=\n",
              "array([[ 0.06746783, -0.46839762, -0.14196023, ..., -0.87581503,\n",
              "        -1.3097794 , -1.0405228 ],\n",
              "       [-0.5649805 , -0.5042411 , -0.6018944 , ..., -0.78627574,\n",
              "        -0.68475807, -0.9949588 ],\n",
              "       [-0.5801616 , -0.49849695, -0.46488148, ..., -0.2995491 ,\n",
              "        -0.78969675, -0.27081695],\n",
              "       ...,\n",
              "       [-0.42605957, -0.5428418 , -0.43111193, ..., -0.781684  ,\n",
              "        -0.8033443 , -0.63207424],\n",
              "       [-0.7113488 , -0.56329095, -0.6620464 , ..., -1.4888151 ,\n",
              "        -1.2313981 , -1.3903891 ],\n",
              "       [-0.41947156,  0.02238265, -0.42759427, ...,  0.4695708 ,\n",
              "         1.0903467 ,  0.2124867 ]], dtype=float32)>"
            ]
          },
          "metadata": {
            "tags": []
          },
          "execution_count": 44
        }
      ]
    },
    {
      "cell_type": "markdown",
      "metadata": {
        "id": "RVOHtK2nTEqU"
      },
      "source": [
        "Logistic Regression Functions and Plotting Function"
      ]
    },
    {
      "cell_type": "code",
      "metadata": {
        "id": "F8xN1LGdTGgD"
      },
      "source": [
        "def create_model(my_learning_rate, feature_layer, my_metrics):\n",
        "  \"\"\"Create and compile a simple classification model.\"\"\"\n",
        "  model = tf.keras.models.Sequential()\n",
        "  model.add(feature_layer)\n",
        "  model.add(tf.keras.layers.Dense(units=1, input_shape=(1,), activation=tf.sigmoid))\n",
        "  model.compile(optimizer=tf.keras.optimizers.RMSprop(learning_rate = my_learning_rate),                                                   \n",
        "                loss=tf.keras.losses.BinaryCrossentropy(),\n",
        "                metrics=my_metrics)\n",
        "\n",
        "  return model        \n",
        "\n",
        "\n",
        "def train_model(model, dataset, epochs, label_name,\n",
        "                batch_size=None, shuffle=True):\n",
        "  \"\"\"Feed a dataset into the model in order to train it.\"\"\"\n",
        "  features = {name:np.array(value) for name, value in dataset.items()}\n",
        "  label = np.array(features.pop(label_name)) \n",
        "  history = model.fit(x=features, y=label, batch_size=batch_size, epochs=epochs, shuffle=shuffle)\n",
        "  epochs = history.epoch\n",
        "  hist = pd.DataFrame(history.history)\n",
        "\n",
        "  return epochs, hist  \n",
        "\n",
        "def plot_curve(epochs, hist, list_of_metrics):\n",
        "  \"\"\"Plot a curve of one or more classification metrics vs. epoch.\"\"\"  \n",
        "  plt.figure()\n",
        "  plt.xlabel(\"Epoch\")\n",
        "  plt.ylabel(\"Value\")\n",
        "  for m in list_of_metrics:\n",
        "    x = hist[m]\n",
        "    plt.plot(epochs[1:], x[1:], label=m)\n",
        "  plt.legend()\n"
      ],
      "execution_count": 45,
      "outputs": []
    },
    {
      "cell_type": "markdown",
      "metadata": {
        "id": "jzt7NUUEKg32"
      },
      "source": [
        "Adjusting hyperparameters and fitting the model"
      ]
    },
    {
      "cell_type": "code",
      "metadata": {
        "colab": {
          "base_uri": "https://localhost:8080/",
          "height": 1000
        },
        "id": "MI4FLf7gUdNy",
        "outputId": "9b5fe919-c9de-4494-d562-e0098407f44b"
      },
      "source": [
        "learning_rate = 0.010\n",
        "epochs = 20\n",
        "batch_size = 100\n",
        "label_name = \"diagnosis\"\n",
        "classification_threshold = 0.35\n",
        "\n",
        "METRICS = [tf.keras.metrics.BinaryAccuracy(name='accuracy', threshold=classification_threshold)]\n",
        "my_model = create_model(learning_rate, feature_layer, METRICS)\n",
        "\n",
        "epochs, hist = train_model(my_model, pd.concat([X_train_norm, y_train], axis=1), epochs, \n",
        "                           label_name, batch_size)\n",
        "\n",
        "list_of_metrics_to_plot = ['accuracy'] \n",
        "\n",
        "plot_curve(epochs, hist, list_of_metrics_to_plot)"
      ],
      "execution_count": 46,
      "outputs": [
        {
          "output_type": "stream",
          "text": [
            "Epoch 1/20\n",
            "WARNING:tensorflow:Layers in a Sequential model should only have a single input tensor, but we receive a <class 'dict'> input: {'id': <tf.Tensor 'ExpandDims_15:0' shape=(None, 1) dtype=float32>, 'radius_mean': <tf.Tensor 'ExpandDims_19:0' shape=(None, 1) dtype=float32>, 'texture_mean': <tf.Tensor 'ExpandDims_28:0' shape=(None, 1) dtype=float32>, 'perimeter_mean': <tf.Tensor 'ExpandDims_16:0' shape=(None, 1) dtype=float32>, 'area_mean': <tf.Tensor 'ExpandDims:0' shape=(None, 1) dtype=float32>, 'smoothness_mean': <tf.Tensor 'ExpandDims_22:0' shape=(None, 1) dtype=float32>, 'compactness_mean': <tf.Tensor 'ExpandDims_3:0' shape=(None, 1) dtype=float32>, 'concavity_mean': <tf.Tensor 'ExpandDims_9:0' shape=(None, 1) dtype=float32>, 'concave_points_mean': <tf.Tensor 'ExpandDims_6:0' shape=(None, 1) dtype=float32>, 'symmetry_mean': <tf.Tensor 'ExpandDims_25:0' shape=(None, 1) dtype=float32>, 'fractal_dimension_mean': <tf.Tensor 'ExpandDims_12:0' shape=(None, 1) dtype=float32>, 'radius_se': <tf.Tensor 'ExpandDims_20:0' shape=(None, 1) dtype=float32>, 'texture_se': <tf.Tensor 'ExpandDims_29:0' shape=(None, 1) dtype=float32>, 'perimeter_se': <tf.Tensor 'ExpandDims_17:0' shape=(None, 1) dtype=float32>, 'area_se': <tf.Tensor 'ExpandDims_1:0' shape=(None, 1) dtype=float32>, 'smoothness_se': <tf.Tensor 'ExpandDims_23:0' shape=(None, 1) dtype=float32>, 'compactness_se': <tf.Tensor 'ExpandDims_4:0' shape=(None, 1) dtype=float32>, 'concavity_se': <tf.Tensor 'ExpandDims_10:0' shape=(None, 1) dtype=float32>, 'concave_points_se': <tf.Tensor 'ExpandDims_7:0' shape=(None, 1) dtype=float32>, 'symmetry_se': <tf.Tensor 'ExpandDims_26:0' shape=(None, 1) dtype=float32>, 'fractal_dimension_se': <tf.Tensor 'ExpandDims_13:0' shape=(None, 1) dtype=float32>, 'radius_worst': <tf.Tensor 'ExpandDims_21:0' shape=(None, 1) dtype=float32>, 'texture_worst': <tf.Tensor 'ExpandDims_30:0' shape=(None, 1) dtype=float32>, 'perimeter_worst': <tf.Tensor 'ExpandDims_18:0' shape=(None, 1) dtype=float32>, 'area_worst': <tf.Tensor 'ExpandDims_2:0' shape=(None, 1) dtype=float32>, 'smoothness_worst': <tf.Tensor 'ExpandDims_24:0' shape=(None, 1) dtype=float32>, 'compactness_worst': <tf.Tensor 'ExpandDims_5:0' shape=(None, 1) dtype=float32>, 'concavity_worst': <tf.Tensor 'ExpandDims_11:0' shape=(None, 1) dtype=float32>, 'concave_points_worst': <tf.Tensor 'ExpandDims_8:0' shape=(None, 1) dtype=float32>, 'symmetry_worst': <tf.Tensor 'ExpandDims_27:0' shape=(None, 1) dtype=float32>, 'fractal_dimension_worst': <tf.Tensor 'ExpandDims_14:0' shape=(None, 1) dtype=float32>}\n",
            "Consider rewriting this model with the Functional API.\n",
            "WARNING:tensorflow:Layers in a Sequential model should only have a single input tensor, but we receive a <class 'dict'> input: {'id': <tf.Tensor 'ExpandDims_15:0' shape=(None, 1) dtype=float32>, 'radius_mean': <tf.Tensor 'ExpandDims_19:0' shape=(None, 1) dtype=float32>, 'texture_mean': <tf.Tensor 'ExpandDims_28:0' shape=(None, 1) dtype=float32>, 'perimeter_mean': <tf.Tensor 'ExpandDims_16:0' shape=(None, 1) dtype=float32>, 'area_mean': <tf.Tensor 'ExpandDims:0' shape=(None, 1) dtype=float32>, 'smoothness_mean': <tf.Tensor 'ExpandDims_22:0' shape=(None, 1) dtype=float32>, 'compactness_mean': <tf.Tensor 'ExpandDims_3:0' shape=(None, 1) dtype=float32>, 'concavity_mean': <tf.Tensor 'ExpandDims_9:0' shape=(None, 1) dtype=float32>, 'concave_points_mean': <tf.Tensor 'ExpandDims_6:0' shape=(None, 1) dtype=float32>, 'symmetry_mean': <tf.Tensor 'ExpandDims_25:0' shape=(None, 1) dtype=float32>, 'fractal_dimension_mean': <tf.Tensor 'ExpandDims_12:0' shape=(None, 1) dtype=float32>, 'radius_se': <tf.Tensor 'ExpandDims_20:0' shape=(None, 1) dtype=float32>, 'texture_se': <tf.Tensor 'ExpandDims_29:0' shape=(None, 1) dtype=float32>, 'perimeter_se': <tf.Tensor 'ExpandDims_17:0' shape=(None, 1) dtype=float32>, 'area_se': <tf.Tensor 'ExpandDims_1:0' shape=(None, 1) dtype=float32>, 'smoothness_se': <tf.Tensor 'ExpandDims_23:0' shape=(None, 1) dtype=float32>, 'compactness_se': <tf.Tensor 'ExpandDims_4:0' shape=(None, 1) dtype=float32>, 'concavity_se': <tf.Tensor 'ExpandDims_10:0' shape=(None, 1) dtype=float32>, 'concave_points_se': <tf.Tensor 'ExpandDims_7:0' shape=(None, 1) dtype=float32>, 'symmetry_se': <tf.Tensor 'ExpandDims_26:0' shape=(None, 1) dtype=float32>, 'fractal_dimension_se': <tf.Tensor 'ExpandDims_13:0' shape=(None, 1) dtype=float32>, 'radius_worst': <tf.Tensor 'ExpandDims_21:0' shape=(None, 1) dtype=float32>, 'texture_worst': <tf.Tensor 'ExpandDims_30:0' shape=(None, 1) dtype=float32>, 'perimeter_worst': <tf.Tensor 'ExpandDims_18:0' shape=(None, 1) dtype=float32>, 'area_worst': <tf.Tensor 'ExpandDims_2:0' shape=(None, 1) dtype=float32>, 'smoothness_worst': <tf.Tensor 'ExpandDims_24:0' shape=(None, 1) dtype=float32>, 'compactness_worst': <tf.Tensor 'ExpandDims_5:0' shape=(None, 1) dtype=float32>, 'concavity_worst': <tf.Tensor 'ExpandDims_11:0' shape=(None, 1) dtype=float32>, 'concave_points_worst': <tf.Tensor 'ExpandDims_8:0' shape=(None, 1) dtype=float32>, 'symmetry_worst': <tf.Tensor 'ExpandDims_27:0' shape=(None, 1) dtype=float32>, 'fractal_dimension_worst': <tf.Tensor 'ExpandDims_14:0' shape=(None, 1) dtype=float32>}\n",
            "Consider rewriting this model with the Functional API.\n",
            "4/4 [==============================] - 1s 4ms/step - loss: 0.6551 - accuracy: 0.5118\n",
            "Epoch 2/20\n",
            "4/4 [==============================] - 0s 4ms/step - loss: 0.4013 - accuracy: 0.8005\n",
            "Epoch 3/20\n",
            "4/4 [==============================] - 0s 4ms/step - loss: 0.3139 - accuracy: 0.8819\n",
            "Epoch 4/20\n",
            "4/4 [==============================] - 0s 4ms/step - loss: 0.2607 - accuracy: 0.9108\n",
            "Epoch 5/20\n",
            "4/4 [==============================] - 0s 4ms/step - loss: 0.2249 - accuracy: 0.9291\n",
            "Epoch 6/20\n",
            "4/4 [==============================] - 0s 5ms/step - loss: 0.1989 - accuracy: 0.9423\n",
            "Epoch 7/20\n",
            "4/4 [==============================] - 0s 7ms/step - loss: 0.1769 - accuracy: 0.9501\n",
            "Epoch 8/20\n",
            "4/4 [==============================] - 0s 4ms/step - loss: 0.1607 - accuracy: 0.9554\n",
            "Epoch 9/20\n",
            "4/4 [==============================] - 0s 3ms/step - loss: 0.1470 - accuracy: 0.9606\n",
            "Epoch 10/20\n",
            "4/4 [==============================] - 0s 4ms/step - loss: 0.1349 - accuracy: 0.9659\n",
            "Epoch 11/20\n",
            "4/4 [==============================] - 0s 4ms/step - loss: 0.1251 - accuracy: 0.9633\n",
            "Epoch 12/20\n",
            "4/4 [==============================] - 0s 6ms/step - loss: 0.1171 - accuracy: 0.9659\n",
            "Epoch 13/20\n",
            "4/4 [==============================] - 0s 5ms/step - loss: 0.1095 - accuracy: 0.9738\n",
            "Epoch 14/20\n",
            "4/4 [==============================] - 0s 5ms/step - loss: 0.1032 - accuracy: 0.9738\n",
            "Epoch 15/20\n",
            "4/4 [==============================] - 0s 4ms/step - loss: 0.0981 - accuracy: 0.9738\n",
            "Epoch 16/20\n",
            "4/4 [==============================] - 0s 4ms/step - loss: 0.0930 - accuracy: 0.9764\n",
            "Epoch 17/20\n",
            "4/4 [==============================] - 0s 4ms/step - loss: 0.0888 - accuracy: 0.9764\n",
            "Epoch 18/20\n",
            "4/4 [==============================] - 0s 5ms/step - loss: 0.0852 - accuracy: 0.9790\n",
            "Epoch 19/20\n",
            "4/4 [==============================] - 0s 5ms/step - loss: 0.0818 - accuracy: 0.9790\n",
            "Epoch 20/20\n",
            "4/4 [==============================] - 0s 6ms/step - loss: 0.0793 - accuracy: 0.9843\n"
          ],
          "name": "stdout"
        },
        {
          "output_type": "display_data",
          "data": {
            "image/png": "[encoded data removed]",
            "text/plain": [
              "<Figure size 432x288 with 1 Axes>"
            ]
          },
          "metadata": {
            "tags": [],
            "needs_background": "light"
          }
        }
      ]
    },
    {
      "cell_type": "markdown",
      "metadata": {
        "id": "4rcAdnoEF_om"
      },
      "source": [
        "Test dataset Evaluation"
      ]
    },
    {
      "cell_type": "code",
      "metadata": {
        "colab": {
          "base_uri": "https://localhost:8080/"
        },
        "id": "3NJecSdHGDES",
        "outputId": "df3ef64e-acb7-4466-dcc4-e94b3b4be873"
      },
      "source": [
        "features = {name:np.array(value) for name, value in pd.concat([X_test_norm, y_test], axis=1).items()}\n",
        "label = np.array(features.pop(label_name))\n",
        "\n",
        "my_model.evaluate(x = features, y = label, batch_size=batch_size)"
      ],
      "execution_count": 47,
      "outputs": [
        {
          "output_type": "stream",
          "text": [
            "WARNING:tensorflow:Layers in a Sequential model should only have a single input tensor, but we receive a <class 'dict'> input: {'id': <tf.Tensor 'ExpandDims_15:0' shape=(None, 1) dtype=float32>, 'radius_mean': <tf.Tensor 'ExpandDims_19:0' shape=(None, 1) dtype=float32>, 'texture_mean': <tf.Tensor 'ExpandDims_28:0' shape=(None, 1) dtype=float32>, 'perimeter_mean': <tf.Tensor 'ExpandDims_16:0' shape=(None, 1) dtype=float32>, 'area_mean': <tf.Tensor 'ExpandDims:0' shape=(None, 1) dtype=float32>, 'smoothness_mean': <tf.Tensor 'ExpandDims_22:0' shape=(None, 1) dtype=float32>, 'compactness_mean': <tf.Tensor 'ExpandDims_3:0' shape=(None, 1) dtype=float32>, 'concavity_mean': <tf.Tensor 'ExpandDims_9:0' shape=(None, 1) dtype=float32>, 'concave_points_mean': <tf.Tensor 'ExpandDims_6:0' shape=(None, 1) dtype=float32>, 'symmetry_mean': <tf.Tensor 'ExpandDims_25:0' shape=(None, 1) dtype=float32>, 'fractal_dimension_mean': <tf.Tensor 'ExpandDims_12:0' shape=(None, 1) dtype=float32>, 'radius_se': <tf.Tensor 'ExpandDims_20:0' shape=(None, 1) dtype=float32>, 'texture_se': <tf.Tensor 'ExpandDims_29:0' shape=(None, 1) dtype=float32>, 'perimeter_se': <tf.Tensor 'ExpandDims_17:0' shape=(None, 1) dtype=float32>, 'area_se': <tf.Tensor 'ExpandDims_1:0' shape=(None, 1) dtype=float32>, 'smoothness_se': <tf.Tensor 'ExpandDims_23:0' shape=(None, 1) dtype=float32>, 'compactness_se': <tf.Tensor 'ExpandDims_4:0' shape=(None, 1) dtype=float32>, 'concavity_se': <tf.Tensor 'ExpandDims_10:0' shape=(None, 1) dtype=float32>, 'concave_points_se': <tf.Tensor 'ExpandDims_7:0' shape=(None, 1) dtype=float32>, 'symmetry_se': <tf.Tensor 'ExpandDims_26:0' shape=(None, 1) dtype=float32>, 'fractal_dimension_se': <tf.Tensor 'ExpandDims_13:0' shape=(None, 1) dtype=float32>, 'radius_worst': <tf.Tensor 'ExpandDims_21:0' shape=(None, 1) dtype=float32>, 'texture_worst': <tf.Tensor 'ExpandDims_30:0' shape=(None, 1) dtype=float32>, 'perimeter_worst': <tf.Tensor 'ExpandDims_18:0' shape=(None, 1) dtype=float32>, 'area_worst': <tf.Tensor 'ExpandDims_2:0' shape=(None, 1) dtype=float32>, 'smoothness_worst': <tf.Tensor 'ExpandDims_24:0' shape=(None, 1) dtype=float32>, 'compactness_worst': <tf.Tensor 'ExpandDims_5:0' shape=(None, 1) dtype=float32>, 'concavity_worst': <tf.Tensor 'ExpandDims_11:0' shape=(None, 1) dtype=float32>, 'concave_points_worst': <tf.Tensor 'ExpandDims_8:0' shape=(None, 1) dtype=float32>, 'symmetry_worst': <tf.Tensor 'ExpandDims_27:0' shape=(None, 1) dtype=float32>, 'fractal_dimension_worst': <tf.Tensor 'ExpandDims_14:0' shape=(None, 1) dtype=float32>}\n",
            "Consider rewriting this model with the Functional API.\n",
            "WARNING:tensorflow:5 out of the last 9 calls to <function Model.make_test_function.<locals>.test_function at 0x7fb46dc6c680> triggered tf.function retracing. Tracing is expensive and the excessive number of tracings could be due to (1) creating @tf.function repeatedly in a loop, (2) passing tensors with different shapes, (3) passing Python objects instead of tensors. For (1), please define your @tf.function outside of the loop. For (2), @tf.function has experimental_relax_shapes=True option that relaxes argument shapes that can avoid unnecessary retracing. For (3), please refer to https://www.tensorflow.org/guide/function#controlling_retracing and https://www.tensorflow.org/api_docs/python/tf/function for  more details.\n",
            "2/2 [==============================] - 0s 7ms/step - loss: 0.0845 - accuracy: 0.9787\n"
          ],
          "name": "stdout"
        },
        {
          "output_type": "execute_result",
          "data": {
            "text/plain": [
              "[0.08448176831007004, 0.978723406791687]"
            ]
          },
          "metadata": {
            "tags": []
          },
          "execution_count": 47
        }
      ]
    }
  ]
}